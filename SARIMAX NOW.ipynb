{
 "cells": [
  {
   "cell_type": "code",
   "execution_count": 1,
   "id": "0fd4604e",
   "metadata": {},
   "outputs": [],
   "source": [
    "import pandas as pd\n",
    "import numpy as np\n",
    "import statsmodels.api as sm\n",
    "from sklearn.metrics import mean_squared_error, mean_absolute_percentage_error\n",
    "import matplotlib.pyplot as plt\n",
    "\n"
   ]
  },
  {
   "cell_type": "code",
   "execution_count": 2,
   "id": "bed9c679",
   "metadata": {},
   "outputs": [
    {
     "data": {
      "text/html": [
       "<div>\n",
       "<style scoped>\n",
       "    .dataframe tbody tr th:only-of-type {\n",
       "        vertical-align: middle;\n",
       "    }\n",
       "\n",
       "    .dataframe tbody tr th {\n",
       "        vertical-align: top;\n",
       "    }\n",
       "\n",
       "    .dataframe thead th {\n",
       "        text-align: right;\n",
       "    }\n",
       "</style>\n",
       "<table border=\"1\" class=\"dataframe\">\n",
       "  <thead>\n",
       "    <tr style=\"text-align: right;\">\n",
       "      <th></th>\n",
       "      <th>collection_week</th>\n",
       "      <th>icu_staffed</th>\n",
       "      <th>masks</th>\n",
       "    </tr>\n",
       "  </thead>\n",
       "  <tbody>\n",
       "    <tr>\n",
       "      <th>0</th>\n",
       "      <td>4/21/2024</td>\n",
       "      <td>273</td>\n",
       "      <td>39984</td>\n",
       "    </tr>\n",
       "    <tr>\n",
       "      <th>1</th>\n",
       "      <td>4/14/2024</td>\n",
       "      <td>275</td>\n",
       "      <td>43659</td>\n",
       "    </tr>\n",
       "    <tr>\n",
       "      <th>2</th>\n",
       "      <td>4/7/2024</td>\n",
       "      <td>275</td>\n",
       "      <td>43659</td>\n",
       "    </tr>\n",
       "    <tr>\n",
       "      <th>3</th>\n",
       "      <td>3/31/2024</td>\n",
       "      <td>273</td>\n",
       "      <td>39543</td>\n",
       "    </tr>\n",
       "    <tr>\n",
       "      <th>4</th>\n",
       "      <td>3/24/2024</td>\n",
       "      <td>273</td>\n",
       "      <td>36309</td>\n",
       "    </tr>\n",
       "  </tbody>\n",
       "</table>\n",
       "</div>"
      ],
      "text/plain": [
       "  collection_week  icu_staffed  masks\n",
       "0       4/21/2024          273  39984\n",
       "1       4/14/2024          275  43659\n",
       "2        4/7/2024          275  43659\n",
       "3       3/31/2024          273  39543\n",
       "4       3/24/2024          273  36309"
      ]
     },
     "execution_count": 2,
     "metadata": {},
     "output_type": "execute_result"
    }
   ],
   "source": [
    "# Load the dataset\n",
    "data= pd.read_csv('PLAB.csv')\n",
    "data.head()\n"
   ]
  },
  {
   "cell_type": "code",
   "execution_count": 4,
   "id": "5b2ee769",
   "metadata": {},
   "outputs": [],
   "source": [
    "#print(data.dtypes)\n"
   ]
  },
  {
   "cell_type": "code",
   "execution_count": 3,
   "id": "98c3dc04",
   "metadata": {
    "scrolled": true
   },
   "outputs": [
    {
     "data": {
      "text/html": [
       "<div>\n",
       "<style scoped>\n",
       "    .dataframe tbody tr th:only-of-type {\n",
       "        vertical-align: middle;\n",
       "    }\n",
       "\n",
       "    .dataframe tbody tr th {\n",
       "        vertical-align: top;\n",
       "    }\n",
       "\n",
       "    .dataframe thead th {\n",
       "        text-align: right;\n",
       "    }\n",
       "</style>\n",
       "<table border=\"1\" class=\"dataframe\">\n",
       "  <thead>\n",
       "    <tr style=\"text-align: right;\">\n",
       "      <th></th>\n",
       "      <th>collection_week</th>\n",
       "      <th>icu_staffed</th>\n",
       "      <th>masks</th>\n",
       "      <th>week_of_year</th>\n",
       "    </tr>\n",
       "  </thead>\n",
       "  <tbody>\n",
       "    <tr>\n",
       "      <th>0</th>\n",
       "      <td>2024-04-21</td>\n",
       "      <td>273</td>\n",
       "      <td>39984</td>\n",
       "      <td>16</td>\n",
       "    </tr>\n",
       "    <tr>\n",
       "      <th>1</th>\n",
       "      <td>2024-04-14</td>\n",
       "      <td>275</td>\n",
       "      <td>43659</td>\n",
       "      <td>15</td>\n",
       "    </tr>\n",
       "    <tr>\n",
       "      <th>2</th>\n",
       "      <td>2024-04-07</td>\n",
       "      <td>275</td>\n",
       "      <td>43659</td>\n",
       "      <td>14</td>\n",
       "    </tr>\n",
       "    <tr>\n",
       "      <th>3</th>\n",
       "      <td>2024-03-31</td>\n",
       "      <td>273</td>\n",
       "      <td>39543</td>\n",
       "      <td>13</td>\n",
       "    </tr>\n",
       "    <tr>\n",
       "      <th>4</th>\n",
       "      <td>2024-03-24</td>\n",
       "      <td>273</td>\n",
       "      <td>36309</td>\n",
       "      <td>12</td>\n",
       "    </tr>\n",
       "  </tbody>\n",
       "</table>\n",
       "</div>"
      ],
      "text/plain": [
       "  collection_week  icu_staffed  masks  week_of_year\n",
       "0      2024-04-21          273  39984            16\n",
       "1      2024-04-14          275  43659            15\n",
       "2      2024-04-07          275  43659            14\n",
       "3      2024-03-31          273  39543            13\n",
       "4      2024-03-24          273  36309            12"
      ]
     },
     "execution_count": 3,
     "metadata": {},
     "output_type": "execute_result"
    }
   ],
   "source": [
    "# Set 'date' as index\n",
    "#data.set_index('collection_week', inplace=True)\n",
    "# Convert collection_week to datetime format\n",
    "data['collection_week'] = pd.to_datetime(data['collection_week'])\n",
    "\n",
    "# Add week_of_year column\n",
    "data['week_of_year'] = data['collection_week'].dt.isocalendar().week\n",
    "\n",
    "# Set collection_week as index\n",
    "#df.set_index('collection_week', inplace=True)\n",
    "data.head()"
   ]
  },
  {
   "cell_type": "code",
   "execution_count": 4,
   "id": "ea222a3e",
   "metadata": {},
   "outputs": [],
   "source": [
    "data['icu_staffed'] = pd.to_numeric(data['icu_staffed'], errors='coerce')\n",
    "data['masks'] = pd.to_numeric(data['masks'], errors='coerce')\n",
    "data['week_of_year'] = pd.to_numeric(data['week_of_year'], errors='coerce')"
   ]
  },
  {
   "cell_type": "code",
   "execution_count": 7,
   "id": "6e2cddd9",
   "metadata": {},
   "outputs": [],
   "source": [
    "#data = data.drop('collection_week', axis=1)"
   ]
  },
  {
   "cell_type": "code",
   "execution_count": 8,
   "id": "18fa0b02",
   "metadata": {},
   "outputs": [],
   "source": [
    "# Splitting the data into train and test sets\n",
    "train_size = int(len(data) * 0.8)\n",
    "train_data = data.iloc[:train_size]\n",
    "test_data = data.iloc[train_size:]\n",
    "\n"
   ]
  },
  {
   "cell_type": "code",
   "execution_count": 10,
   "id": "535e20b8",
   "metadata": {},
   "outputs": [],
   "source": [
    "# Convert DataFrame to numpy arrays for the SARIMAX model\n",
    "X_train = np.asarray(train_data[['icu_staffed']])\n",
    "y_train = np.asarray(train_data['masks'])\n",
    "X_test = np.asarray(test_data[['icu_staffed']])\n",
    "y_test = np.asarray(test_data['masks'])"
   ]
  },
  {
   "cell_type": "code",
   "execution_count": 11,
   "id": "24957fd6",
   "metadata": {},
   "outputs": [],
   "source": [
    "order = (1, 1, 1)\n",
    "seasonal_order = (1, 0, 0, 12)  # Adjust the seasonal order as needed\n"
   ]
  },
  {
   "cell_type": "code",
   "execution_count": 12,
   "id": "0dcb0a08",
   "metadata": {
    "scrolled": true
   },
   "outputs": [
    {
     "name": "stdout",
     "output_type": "stream",
     "text": [
      "                                      SARIMAX Results                                      \n",
      "===========================================================================================\n",
      "Dep. Variable:                                   y   No. Observations:                  156\n",
      "Model:             SARIMAX(1, 1, 1)x(1, 0, [], 12)   Log Likelihood               -1305.315\n",
      "Date:                             Thu, 26 Sep 2024   AIC                           2620.631\n",
      "Time:                                     01:59:17   BIC                           2635.410\n",
      "Sample:                                          0   HQIC                          2626.637\n",
      "                                             - 156                                         \n",
      "Covariance Type:                               opg                                         \n",
      "==============================================================================\n",
      "                 coef    std err          z      P>|z|      [0.025      0.975]\n",
      "------------------------------------------------------------------------------\n",
      "x1            15.2773     10.316      1.481      0.139      -4.942      35.497\n",
      "ar.L1          0.6397      0.075      8.513      0.000       0.492       0.787\n",
      "ma.L1         -0.9956      0.138     -7.200      0.000      -1.267      -0.725\n",
      "ar.S.L12      -0.1981      0.095     -2.083      0.037      -0.384      -0.012\n",
      "sigma2      6.096e+06      1e+06      6.077      0.000    4.13e+06    8.06e+06\n",
      "===================================================================================\n",
      "Ljung-Box (L1) (Q):                   0.59   Jarque-Bera (JB):                 1.71\n",
      "Prob(Q):                              0.44   Prob(JB):                         0.43\n",
      "Heteroskedasticity (H):               1.03   Skew:                             0.22\n",
      "Prob(H) (two-sided):                  0.91   Kurtosis:                         3.32\n",
      "===================================================================================\n",
      "\n",
      "Warnings:\n",
      "[1] Covariance matrix calculated using the outer product of gradients (complex-step).\n"
     ]
    }
   ],
   "source": [
    "model = sm.tsa.statespace.SARIMAX(y_train,\n",
    "                                  exog=X_train,\n",
    "                                  order=order,\n",
    "                                  seasonal_order=seasonal_order,\n",
    "                                  enforce_stationarity=False,\n",
    "                                  enforce_invertibility=False)\n",
    "results = model.fit(disp=False)\n",
    "print(results.summary())"
   ]
  },
  {
   "cell_type": "code",
   "execution_count": 13,
   "id": "f928d21e",
   "metadata": {},
   "outputs": [],
   "source": [
    "# Making predictions\n",
    "predictions = results.get_forecast(steps=len(X_test), exog=X_test)\n",
    "predicted_mean = predictions.predicted_mean"
   ]
  },
  {
   "cell_type": "code",
   "execution_count": 14,
   "id": "bf33e0d5",
   "metadata": {},
   "outputs": [],
   "source": [
    "# Calculating RMSE and MAPE\n",
    "rmse = np.sqrt(mean_squared_error(y_test, predicted_mean))\n",
    "mape = mean_absolute_percentage_error(y_test, predicted_mean)"
   ]
  },
  {
   "cell_type": "code",
   "execution_count": 15,
   "id": "c087be80",
   "metadata": {},
   "outputs": [
    {
     "name": "stdout",
     "output_type": "stream",
     "text": [
      "Root Mean Squared Error (RMSE): 3081.14\n",
      "Mean Absolute Percentage Error (MAPE): 5.48%\n"
     ]
    }
   ],
   "source": [
    "# Printing RMSE and MAPE\n",
    "print(f'Root Mean Squared Error (RMSE): {rmse:.2f}')\n",
    "print(f'Mean Absolute Percentage Error (MAPE): {mape:.2%}')\n"
   ]
  },
  {
   "cell_type": "code",
   "execution_count": 17,
   "id": "6a6a77fb",
   "metadata": {},
   "outputs": [
    {
     "data": {
      "image/png": "[encoded data removed]",
      "text/plain": [
       "<Figure size 720x432 with 1 Axes>"
      ]
     },
     "metadata": {
      "needs_background": "light"
     },
     "output_type": "display_data"
    }
   ],
   "source": [
    "# Plotting the actual vs predicted values\n",
    "plt.figure(figsize=(10, 6))\n",
    "#plt.plot(train_data.index, train_data['masks'], label='Training Data')\n",
    "plt.plot(test_data.index, test_data['masks'], label='Actual')\n",
    "plt.plot(test_data.index, predicted_mean, label='Predicted')\n",
    "plt.title(f'SARIMAX Prediction of Masks Usage\\nRMSE: {rmse:.2f}, MAPE: {mape:.2%}')\n",
    "plt.xlabel('Date')\n",
    "plt.ylabel('Masks')\n",
    "plt.legend()\n",
    "plt.show()"
   ]
  }
 ],
 "metadata": {
  "kernelspec": {
   "display_name": "Python 3 (ipykernel)",
   "language": "python",
   "name": "python3"
  },
  "language_info": {
   "codemirror_mode": {
    "name": "ipython",
    "version": 3
   },
   "file_extension": ".py",
   "mimetype": "text/x-python",
   "name": "python",
   "nbconvert_exporter": "python",
   "pygments_lexer": "ipython3",
   "version": "3.9.12"
  }
 },
 "nbformat": 4,
 "nbformat_minor": 5
}

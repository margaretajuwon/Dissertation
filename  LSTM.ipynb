{
 "cells": [
  {
   "cell_type": "code",
   "execution_count": 24,
   "id": "07b4810c",
   "metadata": {},
   "outputs": [],
   "source": [
    "import pandas as pd\n",
    "import numpy as np\n",
    "from sklearn.preprocessing import MinMaxScaler\n",
    "import matplotlib.pyplot as plt\n",
    "from tensorflow.keras.models import Sequential\n",
    "from tensorflow.keras.layers import LSTM, Dense\n",
    "from sklearn.metrics import mean_squared_error"
   ]
  },
  {
   "cell_type": "code",
   "execution_count": 25,
   "id": "a4e52a79",
   "metadata": {},
   "outputs": [
    {
     "data": {
      "text/html": [
       "<div>\n",
       "<style scoped>\n",
       "    .dataframe tbody tr th:only-of-type {\n",
       "        vertical-align: middle;\n",
       "    }\n",
       "\n",
       "    .dataframe tbody tr th {\n",
       "        vertical-align: top;\n",
       "    }\n",
       "\n",
       "    .dataframe thead th {\n",
       "        text-align: right;\n",
       "    }\n",
       "</style>\n",
       "<table border=\"1\" class=\"dataframe\">\n",
       "  <thead>\n",
       "    <tr style=\"text-align: right;\">\n",
       "      <th></th>\n",
       "      <th>collection_week</th>\n",
       "      <th>Total staffed</th>\n",
       "      <th>NO OF MASKS</th>\n",
       "    </tr>\n",
       "  </thead>\n",
       "  <tbody>\n",
       "    <tr>\n",
       "      <th>0</th>\n",
       "      <td>4/21/2024</td>\n",
       "      <td>273</td>\n",
       "      <td>39984</td>\n",
       "    </tr>\n",
       "    <tr>\n",
       "      <th>1</th>\n",
       "      <td>4/14/2024</td>\n",
       "      <td>275</td>\n",
       "      <td>43659</td>\n",
       "    </tr>\n",
       "    <tr>\n",
       "      <th>2</th>\n",
       "      <td>4/7/2024</td>\n",
       "      <td>275</td>\n",
       "      <td>43659</td>\n",
       "    </tr>\n",
       "    <tr>\n",
       "      <th>3</th>\n",
       "      <td>3/31/2024</td>\n",
       "      <td>273</td>\n",
       "      <td>39543</td>\n",
       "    </tr>\n",
       "    <tr>\n",
       "      <th>4</th>\n",
       "      <td>3/24/2024</td>\n",
       "      <td>273</td>\n",
       "      <td>36309</td>\n",
       "    </tr>\n",
       "  </tbody>\n",
       "</table>\n",
       "</div>"
      ],
      "text/plain": [
       "  collection_week  Total staffed  NO OF MASKS\n",
       "0       4/21/2024            273        39984\n",
       "1       4/14/2024            275        43659\n",
       "2        4/7/2024            275        43659\n",
       "3       3/31/2024            273        39543\n",
       "4       3/24/2024            273        36309"
      ]
     },
     "execution_count": 25,
     "metadata": {},
     "output_type": "execute_result"
    }
   ],
   "source": [
    "#load data set\n",
    "data = pd.read_csv('PLAY.csv')\n",
    "data.head() "
   ]
  },
  {
   "cell_type": "code",
   "execution_count": 26,
   "id": "afd8a1d1",
   "metadata": {},
   "outputs": [],
   "source": [
    "# Convert 'collection_week' to datetime and set as index\n",
    "data['collection_week'] = pd.to_datetime(data['collection_week'])\n",
    "data.set_index('collection_week', inplace=True)"
   ]
  },
  {
   "cell_type": "code",
   "execution_count": null,
   "id": "62608368",
   "metadata": {},
   "outputs": [],
   "source": []
  },
  {
   "cell_type": "code",
   "execution_count": null,
   "id": "f7c04643",
   "metadata": {},
   "outputs": [],
   "source": []
  },
  {
   "cell_type": "code",
   "execution_count": 28,
   "id": "46376a5f",
   "metadata": {},
   "outputs": [],
   "source": [
    "data['Time'] = data.groupby(data.index).ngroup() + 1"
   ]
  },
  {
   "cell_type": "code",
   "execution_count": 29,
   "id": "08477876",
   "metadata": {},
   "outputs": [],
   "source": [
    "# Step 3: Normalize the data using MinMaxScaler\n",
    "scaler = MinMaxScaler()\n",
    "\n",
    "# Scale all features (No_of_masks, Staffed_beds, and Time)\n",
    "scaled_data = scaler.fit_transform(data[['No of masks', 'Staffed beds', 'Time']])\n",
    "\n",
    "# Convert the scaled data back to a DataFrame for easier handling\n",
    "scaled_data = pd.DataFrame(scaled_data, columns=['No of masks', 'Staffed beds', 'Time'], index=data.index)"
   ]
  },
  {
   "cell_type": "code",
   "execution_count": 30,
   "id": "8eee2389",
   "metadata": {},
   "outputs": [],
   "source": [
    "# Step 4: Function to create sequences of data for LSTM\n",
    "def create_sequences(data, time_steps=1):\n",
    "    X, y = [], []\n",
    "    for i in range(len(data) - time_steps):\n",
    "        X.append(data.iloc[i:i + time_steps, 1:].values)  # Exogenous variables (Staffed_beds and Time)\n",
    "        y.append(data.iloc[i + time_steps, 0])  # Target variable (No_of_masks)\n",
    "    return np.array(X), np.array(y)\n",
    "\n",
    "# Set time_steps (look-back window) for LSTM (e.g., 3 time steps)\n",
    "time_steps = 3\n",
    "X, y = create_sequences(scaled_data, time_steps)\n",
    "\n",
    "# Train-test split (80% train, 20% test)\n",
    "train_size = int(0.8 * len(X))\n",
    "X_train, y_train = X[:train_size], y[:train_size]\n",
    "X_test, y_test = X[train_size:], y[train_size:]"
   ]
  },
  {
   "cell_type": "code",
   "execution_count": 35,
   "id": "98b8feb8",
   "metadata": {},
   "outputs": [
    {
     "name": "stdout",
     "output_type": "stream",
     "text": [
      "46/46 [==============================] - 1s 4ms/step\n"
     ]
    }
   ],
   "source": [
    "y_pred = model.predict(X_test)"
   ]
  },
  {
   "cell_type": "code",
   "execution_count": 31,
   "id": "087b643a",
   "metadata": {},
   "outputs": [],
   "source": [
    "# Step 5: Build the LSTM model\n",
    "model = Sequential()\n",
    "model.add(LSTM(units=50, return_sequences=True, input_shape=(X_train.shape[1], X_train.shape[2])))\n",
    "model.add(LSTM(units=50))\n",
    "model.add(Dense(1))  # Output layer predicting No_of_masks\n",
    "\n"
   ]
  },
  {
   "cell_type": "code",
   "execution_count": 32,
   "id": "918fc9f2",
   "metadata": {},
   "outputs": [
    {
     "name": "stdout",
     "output_type": "stream",
     "text": [
      "Epoch 1/20\n",
      "365/365 [==============================] - 8s 7ms/step - loss: 0.0291\n",
      "Epoch 2/20\n",
      "365/365 [==============================] - 3s 8ms/step - loss: 0.0278\n",
      "Epoch 3/20\n",
      "365/365 [==============================] - 3s 8ms/step - loss: 0.0260\n",
      "Epoch 4/20\n",
      "365/365 [==============================] - 3s 7ms/step - loss: 0.0230\n",
      "Epoch 5/20\n",
      "365/365 [==============================] - 3s 7ms/step - loss: 0.0212\n",
      "Epoch 6/20\n",
      "365/365 [==============================] - 3s 8ms/step - loss: 0.0195\n",
      "Epoch 7/20\n",
      "365/365 [==============================] - 3s 7ms/step - loss: 0.0159\n",
      "Epoch 8/20\n",
      "365/365 [==============================] - 3s 7ms/step - loss: 0.0122\n",
      "Epoch 9/20\n",
      "365/365 [==============================] - 3s 7ms/step - loss: 0.0105\n",
      "Epoch 10/20\n",
      "365/365 [==============================] - 3s 7ms/step - loss: 0.0093\n",
      "Epoch 11/20\n",
      "365/365 [==============================] - 3s 7ms/step - loss: 0.0081\n",
      "Epoch 12/20\n",
      "365/365 [==============================] - 3s 7ms/step - loss: 0.0074\n",
      "Epoch 13/20\n",
      "365/365 [==============================] - 3s 8ms/step - loss: 0.0069\n",
      "Epoch 14/20\n",
      "365/365 [==============================] - 3s 8ms/step - loss: 0.0064\n",
      "Epoch 15/20\n",
      "365/365 [==============================] - 3s 8ms/step - loss: 0.0063\n",
      "Epoch 16/20\n",
      "365/365 [==============================] - 3s 7ms/step - loss: 0.0059\n",
      "Epoch 17/20\n",
      "365/365 [==============================] - 3s 8ms/step - loss: 0.0057\n",
      "Epoch 18/20\n",
      "365/365 [==============================] - 3s 7ms/step - loss: 0.0055\n",
      "Epoch 19/20\n",
      "365/365 [==============================] - 3s 8ms/step - loss: 0.0055\n",
      "Epoch 20/20\n",
      "365/365 [==============================] - 3s 8ms/step - loss: 0.0053\n"
     ]
    },
    {
     "data": {
      "text/plain": [
       "<keras.callbacks.History at 0x1e45adf96a0>"
      ]
     },
     "execution_count": 32,
     "metadata": {},
     "output_type": "execute_result"
    }
   ],
   "source": [
    "#Compile the model\n",
    "model.compile(optimizer='adam', loss='mse')\n",
    "\n",
    "# Train the model\n",
    "model.fit(X_train, y_train, epochs=20, batch_size=16, verbose=1)\n"
   ]
  },
  {
   "cell_type": "code",
   "execution_count": 39,
   "id": "e8d20f93",
   "metadata": {},
   "outputs": [],
   "source": [
    "# Inverse the scaling for the y_test and y_pred separately\n",
    "# Only inverse transform the 'No_of_masks' (the first column in scaled_data)\n",
    "y_test_unscaled = scaler.inverse_transform(np.concatenate((y_test.reshape(-1, 1), np.zeros((len(y_test), 2))), axis=1))[:, 0]\n",
    "y_pred_unscaled = scaler.inverse_transform(np.concatenate((y_pred, np.zeros((len(y_pred), 2))), axis=1))[:, 0]\n"
   ]
  },
  {
   "cell_type": "code",
   "execution_count": 40,
   "id": "6777cea1",
   "metadata": {},
   "outputs": [
    {
     "name": "stdout",
     "output_type": "stream",
     "text": [
      "LSTM RMSE: 2550.0447672883342\n"
     ]
    }
   ],
   "source": [
    "# Calculate RMSE for the LSTM model\n",
    "rmse = np.sqrt(mean_squared_error(y_test_unscaled, y_pred_unscaled))\n",
    "print(f\"LSTM RMSE: {rmse}\")"
   ]
  }
 ],
 "metadata": {
  "kernelspec": {
   "display_name": "Python 3 (ipykernel)",
   "language": "python",
   "name": "python3"
  },
  "language_info": {
   "codemirror_mode": {
    "name": "ipython",
    "version": 3
   },
   "file_extension": ".py",
   "mimetype": "text/x-python",
   "name": "python",
   "nbconvert_exporter": "python",
   "pygments_lexer": "ipython3",
   "version": "3.9.12"
  }
 },
 "nbformat": 4,
 "nbformat_minor": 5
}
